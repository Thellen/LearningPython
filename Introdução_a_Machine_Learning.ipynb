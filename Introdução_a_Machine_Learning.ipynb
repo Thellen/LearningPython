{
  "nbformat": 4,
  "nbformat_minor": 0,
  "metadata": {
    "colab": {
      "name": "Introdução a Machine Learning.ipynb",
      "provenance": [],
      "collapsed_sections": [],
      "authorship_tag": "ABX9TyNbpAsY68/hnkVqLQecZz9h",
      "include_colab_link": true
    },
    "kernelspec": {
      "name": "python3",
      "display_name": "Python 3"
    },
    "language_info": {
      "name": "python"
    }
  },
  "cells": [
    {
      "cell_type": "markdown",
      "metadata": {
        "id": "view-in-github",
        "colab_type": "text"
      },
      "source": [
        "<a href=\"https://colab.research.google.com/github/Thellen/LearningPython/blob/main/Introdu%C3%A7%C3%A3o_a_Machine_Learning.ipynb\" target=\"_parent\"><img src=\"https://colab.research.google.com/assets/colab-badge.svg\" alt=\"Open In Colab\"/></a>"
      ]
    },
    {
      "cell_type": "markdown",
      "metadata": {
        "id": "cDVwj-z7wBWw"
      },
      "source": [
        "# Aula introdutória de Machine Learning com exercícios \n",
        "## treinando uma maquina para prever resultados do tipo de animais conforme suas caracteríticas.\n",
        "[Machine Learning: tutorial prático ministrado por Guilherme Silveira e Felipe Deschamps](https://www.youtube.com/watch?v=JyGGMyR3x5I) "
      ]
    },
    {
      "cell_type": "code",
      "metadata": {
        "id": "3qhy4L5Iv9Ng"
      },
      "source": [
        "# pelo longo?\n",
        "# perna curta?\n",
        "# late?\n",
        "\n",
        "porco1 = [0, 1, 0] # porco1 sem pelo longo, com perna curta e que não late\n",
        "porco2 = [0, 1, 1] # porco2 sem pelo longo, com perna curta e que late\n",
        "porco3 = [1, 1, 0] # porco3 com pelo longo, perna curta e que não late\n",
        "\n",
        "cachorro1 = [0, 1, 1] # cachorro1 sem pelo longo, com perna curta e que late\n",
        "cachorro2 = [1, 0, 1] # cachoro2 com pelo longo, sem perna curta e que late\n",
        "cachorro3 = [1, 1, 1] # cachorro3 com pelo longo, perna curta e late\n",
        "\n",
        "treino_x = [porco1, porco2, porco3, cachorro1, cachorro2, cachorro3]\n",
        "# f([X, Y, Z]) = 0, 1 # função que recebe 3 variaveis e devolve 0 ou 1 (porco ou cachorro)\n",
        "treino_y = [1,1,1,0,0,0] #classificando os animais 0 cachorro 1 porco"
      ],
      "execution_count": 11,
      "outputs": []
    },
    {
      "cell_type": "code",
      "metadata": {
        "colab": {
          "base_uri": "https://localhost:8080/"
        },
        "id": "QSM7mMQL2Smk",
        "outputId": "4792ebdc-0477-4abe-e3be-9aa6ebd70be8"
      },
      "source": [
        "from sklearn.svm import LinearSVC # biblioteca de Machine Learning importando um algoritmo de classificação que serve para encontrar linhas que separam as classes\n",
        "\n",
        "modelo = LinearSVC()\n",
        "modelo.fit(treino_x, treino_y) # .fit serve para encaixar os dados dentro do modelo"
      ],
      "execution_count": 4,
      "outputs": [
        {
          "output_type": "execute_result",
          "data": {
            "text/plain": [
              "LinearSVC(C=1.0, class_weight=None, dual=True, fit_intercept=True,\n",
              "          intercept_scaling=1, loss='squared_hinge', max_iter=1000,\n",
              "          multi_class='ovr', penalty='l2', random_state=None, tol=0.0001,\n",
              "          verbose=0)"
            ]
          },
          "metadata": {
            "tags": []
          },
          "execution_count": 4
        }
      ]
    },
    {
      "cell_type": "code",
      "metadata": {
        "colab": {
          "base_uri": "https://localhost:8080/"
        },
        "id": "q9OnXLhe5qqq",
        "outputId": "63df7276-6903-4b35-c50d-b0b699aae97e"
      },
      "source": [
        "animal_misterioso = [1, 1, 1]\n",
        "modelo.predict([animal_misterioso]) # predict serve para previsão do que pode ser o resultado. predict recebe uma lista portanto tem que usar ([])"
      ],
      "execution_count": 5,
      "outputs": [
        {
          "output_type": "execute_result",
          "data": {
            "text/plain": [
              "array([0])"
            ]
          },
          "metadata": {
            "tags": []
          },
          "execution_count": 5
        }
      ]
    },
    {
      "cell_type": "code",
      "metadata": {
        "id": "9zU7Rfhi6mSl"
      },
      "source": [
        "misterio1 = [1, 1, 1] \n",
        "misterio2 = [1, 1, 0]\n",
        "misterio3 = [0, 1, 1]\n",
        "teste_x = [misterio1, misterio2, misterio3] #criando sem dizer extamente o animal\n",
        "teste_y = [0, 1, 1] "
      ],
      "execution_count": 6,
      "outputs": []
    },
    {
      "cell_type": "code",
      "metadata": {
        "colab": {
          "base_uri": "https://localhost:8080/"
        },
        "id": "ck9LfEVq7Pv1",
        "outputId": "641b1b78-d3c3-4f5e-c2ca-bbc390521ed5"
      },
      "source": [
        "previsoes = modelo.predict(teste_x) \n",
        "previsoes"
      ],
      "execution_count": 9,
      "outputs": [
        {
          "output_type": "execute_result",
          "data": {
            "text/plain": [
              "array([0, 1, 0])"
            ]
          },
          "metadata": {
            "tags": []
          },
          "execution_count": 9
        }
      ]
    },
    {
      "cell_type": "code",
      "metadata": {
        "colab": {
          "base_uri": "https://localhost:8080/"
        },
        "id": "ZNLOwTAY7UnP",
        "outputId": "758fa899-559d-43e8-f65f-094074b18495"
      },
      "source": [
        "from sklearn.metrics import accuracy_score # importando metricas do sklearn para puxar a taxa de acerto\n",
        "\n",
        "accuracy_score(teste_y, previsoes) # mostrando a taxa de acerto da previsão acima"
      ],
      "execution_count": 10,
      "outputs": [
        {
          "output_type": "execute_result",
          "data": {
            "text/plain": [
              "0.6666666666666666"
            ]
          },
          "metadata": {
            "tags": []
          },
          "execution_count": 10
        }
      ]
    }
  ]
}